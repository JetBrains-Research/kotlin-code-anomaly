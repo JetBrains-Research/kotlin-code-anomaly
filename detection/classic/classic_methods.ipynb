{
 "cells": [
  {
   "cell_type": "code",
   "execution_count": 1,
   "metadata": {},
   "outputs": [],
   "source": [
    "from itertools import islice\n",
    "import csv\n",
    "from pathlib import Path\n",
    "\n",
    "import numpy as np\n",
    "from sklearn.decomposition import PCA\n",
    "from sklearn.neighbors import LocalOutlierFactor\n",
    "from sklearn.ensemble import IsolationForest\n",
    "from sklearn.covariance import EllipticEnvelope"
   ]
  },
  {
   "cell_type": "code",
   "execution_count": 2,
   "metadata": {},
   "outputs": [],
   "source": [
    "def conv_name(old_name):\n",
    "    file_path, method_sign = old_name.split('.txt,')\n",
    "    file_path = file_path + '.kt'\n",
    "    return file_path + ':' + method_sign"
   ]
  },
  {
   "cell_type": "code",
   "execution_count": 3,
   "metadata": {
    "scrolled": true
   },
   "outputs": [
    {
     "name": "stdout",
     "output_type": "stream",
     "text": [
      "0.9258978050096849\n"
     ]
    }
   ],
   "source": [
    "data_path = ''\n",
    "names_path = ''\n",
    "size_limit = 200000\n",
    "\n",
    "X = np.loadtxt(data_path, delimiter=' ', max_rows=size_limit, dtype=np.float32)\n",
    "\n",
    "with open(names_path, encoding='utf8') as names_file:\n",
    "    names = [conv_name(i.strip()) for i in islice(names_file, size_limit)]\n",
    "\n",
    "no_nans_mask = ~np.isnan(X).any(axis=1)\n",
    "no_nans_indices = np.argwhere(no_nans_mask).flatten()\n",
    "X = X[no_nans_mask]\n",
    "names = [names[i] for i in no_nans_indices]\n",
    "\n",
    "pca = PCA(64)\n",
    "X = pca.fit_transform(X)\n",
    "print(pca.explained_variance_ratio_.sum())"
   ]
  },
  {
   "cell_type": "code",
   "execution_count": 4,
   "metadata": {},
   "outputs": [],
   "source": [
    "def save_anomalies(anomaly_indices, save_path):\n",
    "    with save_path.open('wt') as out_file:\n",
    "        out_writer = csv.writer(out_file, delimiter=',')\n",
    "        for anomaly_index in anomaly_indices:\n",
    "            out_writer.writerow([anomaly_index + 1, names[anomaly_index]])"
   ]
  },
  {
   "cell_type": "code",
   "execution_count": 5,
   "metadata": {},
   "outputs": [],
   "source": [
    "saving_dir = Path('')\n",
    "saving_dir.mkdir(parents=True, exist_ok=True)"
   ]
  },
  {
   "cell_type": "code",
   "execution_count": 12,
   "metadata": {},
   "outputs": [],
   "source": [
    "lof_clf = LocalOutlierFactor(n_neighbors=10, algorithm='auto', metric='cosine', p=2, contamination=0.0005, n_jobs=-1)\n",
    "lof_marks = lof_clf.fit_predict(X)\n",
    "\n",
    "lof_anomalies = np.argwhere(lof_marks < 0).flatten()\n",
    "save_anomalies(lof_anomalies, saving_dir / 'lof_anomalies_cosine_10.csv')"
   ]
  },
  {
   "cell_type": "code",
   "execution_count": 6,
   "metadata": {},
   "outputs": [],
   "source": [
    "if_clf = IsolationForest(n_estimators=200, contamination=0.0005, max_samples='auto', random_state=42, n_jobs=-1)\n",
    "if_marks = if_clf.fit_predict(X)\n",
    "\n",
    "if_anomalies = np.argwhere(if_marks < 0).flatten()\n",
    "save_anomalies(if_anomalies, saving_dir / 'if_anomalies.csv')"
   ]
  },
  {
   "cell_type": "code",
   "execution_count": 7,
   "metadata": {},
   "outputs": [],
   "source": [
    "elliptic_clf = EllipticEnvelope(contamination=0.0005, support_fraction=0.7)\n",
    "elliptic_marks = elliptic_clf.fit_predict(X)\n",
    "\n",
    "elliptic_anomalies = np.argwhere(elliptic_marks < 0).flatten()\n",
    "save_anomalies(elliptic_anomalies, saving_dir / 'elliptic_anomalies.csv')"
   ]
  },
  {
   "cell_type": "code",
   "execution_count": null,
   "metadata": {},
   "outputs": [],
   "source": []
  }
 ],
 "metadata": {
  "kernelspec": {
   "display_name": "Python 3",
   "language": "python",
   "name": "python3"
  },
  "language_info": {
   "codemirror_mode": {
    "name": "ipython",
    "version": 3
   },
   "file_extension": ".py",
   "mimetype": "text/x-python",
   "name": "python",
   "nbconvert_exporter": "python",
   "pygments_lexer": "ipython3",
   "version": "3.7.4"
  }
 },
 "nbformat": 4,
 "nbformat_minor": 2
}
