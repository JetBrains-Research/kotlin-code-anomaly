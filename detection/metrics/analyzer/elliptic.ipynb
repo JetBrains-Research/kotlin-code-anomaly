{
 "cells": [
  {
   "cell_type": "code",
   "execution_count": 1,
   "metadata": {},
   "outputs": [],
   "source": [
    "import csv\n",
    "import matplotlib.pyplot as plt\n",
    "import numpy as np\n",
    "import os\n",
    "import pandas as pd\n",
    "import re\n",
    "import sys\n",
    "import time\n",
    "from functools import reduce\n",
    "\n",
    "from sklearn.decomposition import PCA\n",
    "from sklearn.model_selection import ParameterGrid\n",
    "from sklearn.preprocessing import scale\n",
    "from sklearn.covariance import EllipticEnvelope\n",
    "\n",
    "dataset_name = \"feb18_51\"\n",
    "is_drawing = False\n",
    "\n",
    "csv_in_path = f\"../data/{dataset_name}.csv\"\n",
    "out_path = f\"../out-data/{dataset_name}_ee/\"\n",
    "log_path = f\"{out_path}methods.log\"\n",
    "\n",
    "if not os.path.exists(out_path):\n",
    "    os.makedirs(out_path)\n",
    "\n",
    "def parse_timediff(timediff):\n",
    "    h = timediff // 3600\n",
    "    m = timediff % 3600 // 60\n",
    "    s = timediff % 60\n",
    "    return h, m, s"
   ]
  },
  {
   "cell_type": "code",
   "execution_count": null,
   "metadata": {},
   "outputs": [],
   "source": [
    "# Load input\n",
    "methods = pd.read_csv(csv_in_path, header=0, delimiter='\\t', quoting=csv.QUOTE_NONE, error_bad_lines=True,\n",
    "                          engine='python')"
   ]
  },
  {
   "cell_type": "code",
   "execution_count": null,
   "metadata": {},
   "outputs": [],
   "source": [
    "info_columns = np.array(methods.values[:, :2])\n",
    "print(f\"info_columns.shape = {info_columns.shape}\")\n",
    "X = np.array(methods.values[:, 2:], dtype=\"float16\")\n",
    "print(f\"X.shape = {X.shape}\")\n",
    "n_methods = X.shape[0]\n",
    "\n",
    "has_bad_lines = reduce(lambda a, x: a | x, [np.isnan(row).any() for row in X])\n",
    "assert not has_bad_lines\n",
    "\n",
    "del methods"
   ]
  },
  {
   "cell_type": "code",
   "execution_count": null,
   "metadata": {},
   "outputs": [],
   "source": [
    "X = scale(X)"
   ]
  },
  {
   "cell_type": "code",
   "execution_count": null,
   "metadata": {},
   "outputs": [],
   "source": [
    "df_info = pd.DataFrame(info_columns)\n",
    "df_info.to_csv(f\"../data/info_51.csv\", header=False, index=False)\n",
    "df_X = pd.DataFrame(X)\n",
    "df_X.to_csv(f\"../data/X_51_scaled.csv\", header=False, index=False)\n",
    "del df_info\n",
    "del df_X"
   ]
  },
  {
   "cell_type": "code",
   "execution_count": 2,
   "metadata": {},
   "outputs": [],
   "source": [
    "df_X = pd.read_csv(f\"../data/X_51_scaled.csv\", header=None, index_col=None)\n",
    "X = np.array(df_X, dtype=\"float32\")\n",
    "del df_X\n",
    "\n",
    "df_info = pd.read_csv(f\"../data/info_51.csv\", header=None, index_col=None)\n",
    "info_columns = np.array(df_info)\n",
    "del df_info"
   ]
  },
  {
   "cell_type": "code",
   "execution_count": 3,
   "metadata": {},
   "outputs": [],
   "source": [
    "X_pca = PCA(n_components=20).fit_transform(X)\n",
    "del X"
   ]
  },
  {
   "cell_type": "code",
   "execution_count": 13,
   "metadata": {},
   "outputs": [
    {
     "name": "stdout",
     "output_type": "stream",
     "text": [
      "ee_cont-5e-05\n",
      "Elapsed time: 0.0 h. 21.0 min. 29.905561923980713 sec.\n",
      "\n"
     ]
    }
   ],
   "source": [
    "n_methods = X_pca.shape[0]\n",
    "contamination = 0.00005\n",
    "clf_desc = f\"ee_cont-{contamination}\"\n",
    "print(f\"{clf_desc}\")\n",
    "\n",
    "clf = EllipticEnvelope(contamination=contamination)\n",
    "\n",
    "all_indices = np.arange(0, n_methods)\n",
    "\n",
    "local_start = time.time()\n",
    "\n",
    "clf.fit(X_pca)\n",
    "\n",
    "hours, minutes, seconds = parse_timediff(time.time() - local_start)\n",
    "print(f\"Elapsed time: {hours} h. {minutes} min. {seconds} sec.\\n\")"
   ]
  },
  {
   "cell_type": "code",
   "execution_count": 14,
   "metadata": {},
   "outputs": [],
   "source": [
    "marks = clf.predict(X_pca)"
   ]
  },
  {
   "cell_type": "code",
   "execution_count": null,
   "metadata": {},
   "outputs": [],
   "source": [
    "neg_lof=np.array(clf.negative_outlier_factor_)\n",
    "neg_lof.shape"
   ]
  },
  {
   "cell_type": "code",
   "execution_count": null,
   "metadata": {},
   "outputs": [],
   "source": [
    "np.savetxt(f\"../out-data/{dataset_name}_lof_custom/negative_o_f_{clf_desc}.txt\", neg_lof)"
   ]
  },
  {
   "cell_type": "code",
   "execution_count": null,
   "metadata": {},
   "outputs": [],
   "source": [
    "marks = neg_lof.copy()\n",
    "threshold = 0.02\n",
    "marks[lof <= np.percentile(lof_y_pred, threshold)] = -1\n",
    "marks[lof > np.percentile(lof_y_pred, threshold)] = 1"
   ]
  },
  {
   "cell_type": "code",
   "execution_count": 15,
   "metadata": {},
   "outputs": [
    {
     "name": "stdout",
     "output_type": "stream",
     "text": [
      "Outliers:\t       405/   4044790\t 0.01001288%\n"
     ]
    }
   ],
   "source": [
    "# inlier_indices = np.asarray([mark > 0 for mark in bool_marks])\n",
    "outlier_indices = np.asarray([mark < 0 for mark in bool_marks])\n",
    "\n",
    "# info_inliers = info_columns[inlier_indices]\n",
    "info_outliers = info_columns[outlier_indices]\n",
    "# n_inliers = info_inliers.shape[0]\n",
    "n_outliers = info_outliers.shape[0]\n",
    "# print(f\"Inliers:\\t{n_inliers:10}/{n_methods:10}\\t{(n_inliers * 100 / n_methods):11.7}%\")\n",
    "print(f\"Outliers:\\t{n_outliers:10}/{n_methods:10}\\t{(n_outliers * 100 / n_methods):11.7}%\")"
   ]
  },
  {
   "cell_type": "code",
   "execution_count": 10,
   "metadata": {},
   "outputs": [
    {
     "data": {
      "text/plain": [
       "array([1, 1, 1, ..., 1, 1, 1])"
      ]
     },
     "execution_count": 10,
     "metadata": {},
     "output_type": "execute_result"
    }
   ],
   "source": [
    "marks"
   ]
  },
  {
   "cell_type": "code",
   "execution_count": 16,
   "metadata": {},
   "outputs": [],
   "source": [
    "# outliers = methods.values[outlier_indices]\n",
    "dataframe = pd.DataFrame(info_outliers)\n",
    "dataframe.to_csv(f\"{out_path}{clf_desc}_{n_outliers}.csv\", header=False, index=False)"
   ]
  },
  {
   "cell_type": "code",
   "execution_count": null,
   "metadata": {},
   "outputs": [],
   "source": []
  }
 ],
 "metadata": {
  "kernelspec": {
   "display_name": "Python 3",
   "language": "python",
   "name": "python3"
  },
  "language_info": {
   "codemirror_mode": {
    "name": "ipython",
    "version": 3
   },
   "file_extension": ".py",
   "mimetype": "text/x-python",
   "name": "python",
   "nbconvert_exporter": "python",
   "pygments_lexer": "ipython3",
   "version": "3.6.4"
  }
 },
 "nbformat": 4,
 "nbformat_minor": 2
}
