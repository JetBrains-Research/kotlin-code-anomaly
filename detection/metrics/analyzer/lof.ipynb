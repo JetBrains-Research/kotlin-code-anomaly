{
 "cells": [
  {
   "cell_type": "code",
   "execution_count": 1,
   "metadata": {},
   "outputs": [],
   "source": [
    "import csv\n",
    "import matplotlib.pyplot as plt\n",
    "import numpy as np\n",
    "import os\n",
    "import pandas\n",
    "import re\n",
    "import sys\n",
    "import time\n",
    "from functools import reduce\n",
    "\n",
    "# noinspection PyUnresolvedReferences\n",
    "from mpl_toolkits.mplot3d import Axes3D\n",
    "from sklearn.decomposition import PCA\n",
    "from sklearn.model_selection import ParameterGrid\n",
    "from sklearn.neighbors import LocalOutlierFactor\n",
    "from sklearn.preprocessing import scale\n",
    "from sklearn.svm import OneClassSVM\n",
    "\n",
    "dataset_name = \"feb18_51\"\n",
    "is_drawing = False\n",
    "\n",
    "csv_in_path = f\"../data/{dataset_name}.csv\"\n",
    "out_path = f\"../out-data/{dataset_name}/lof/\"\n",
    "\n",
    "def parse_timediff(timediff):\n",
    "    h = timediff // 3600\n",
    "    m = timediff % 3600 // 60\n",
    "    s = timediff % 60\n",
    "    return h, m, s"
   ]
  },
  {
   "cell_type": "code",
   "execution_count": 2,
   "metadata": {},
   "outputs": [],
   "source": [
    "# Load input\n",
    "methods = pandas.read_csv(csv_in_path, header=0, delimiter='\\t', quoting=csv.QUOTE_NONE, error_bad_lines=True,\n",
    "                          engine='python')"
   ]
  },
  {
   "cell_type": "code",
   "execution_count": 6,
   "metadata": {},
   "outputs": [
    {
     "name": "stdout",
     "output_type": "stream",
     "text": [
      "info_columns.shape = (4044790, 2)\n",
      "X.shape = (4044790, 51)\n"
     ]
    }
   ],
   "source": [
    "info_columns = np.array(methods.values[:, :2])\n",
    "print(f\"info_columns.shape = {info_columns.shape}\")\n",
    "X = np.array(methods.values[:, 2:], dtype=\"float16\")\n",
    "print(f\"X.shape = {X.shape}\")\n",
    "n_methods = X.shape[0]\n",
    "\n",
    "has_bad_lines = reduce(lambda a, x: a | x, [np.isnan(row).any() for row in X])\n",
    "assert not has_bad_lines\n",
    "\n",
    "del methods"
   ]
  },
  {
   "cell_type": "code",
   "execution_count": 7,
   "metadata": {},
   "outputs": [],
   "source": [
    "X = scale(X)"
   ]
  },
  {
   "cell_type": "code",
   "execution_count": 9,
   "metadata": {},
   "outputs": [],
   "source": [
    "df_info = pandas.DataFrame(info_columns)\n",
    "df_info.to_csv(f\"../data/info_51.csv\", header=False, index=False)\n",
    "df_X = pandas.DataFrame(X)\n",
    "df_X.to_csv(f\"../data/X_51_scaled.csv\", header=False, index=False)\n",
    "del df_info\n",
    "del df_X"
   ]
  },
  {
   "cell_type": "code",
   "execution_count": 32,
   "metadata": {},
   "outputs": [],
   "source": [
    "df_X = pandas.read_csv(f\"../data/X_51_scaled.csv\", header=None, index_col=None)\n",
    "X = np.array(df_X, dtype=\"float32\")\n",
    "del df_X"
   ]
  },
  {
   "cell_type": "code",
   "execution_count": 33,
   "metadata": {},
   "outputs": [],
   "source": [
    "X_pca = PCA(n_components=20).fit_transform(X)\n",
    "del X"
   ]
  },
  {
   "cell_type": "code",
   "execution_count": 14,
   "metadata": {},
   "outputs": [],
   "source": [
    "clf_desc = f\"lof_pca-20_n-20_cont-0.001\""
   ]
  },
  {
   "cell_type": "code",
   "execution_count": 35,
   "metadata": {},
   "outputs": [
    {
     "name": "stdout",
     "output_type": "stream",
     "text": [
      "lof_pca-20_n-20_cont-0.001\n",
      "Elapsed time: 2.0 h. 37.0 min. 42.836100816726685 sec.\n",
      "\n"
     ]
    },
    {
     "ename": "ValueError",
     "evalue": "I/O operation on closed file.",
     "output_type": "error",
     "traceback": [
      "\u001b[0;31m---------------------------------------------------------------------------\u001b[0m",
      "\u001b[0;31mValueError\u001b[0m                                Traceback (most recent call last)",
      "\u001b[0;32m<ipython-input-35-79889c4b0f0c>\u001b[0m in \u001b[0;36m<module>\u001b[0;34m()\u001b[0m\n\u001b[1;32m     11\u001b[0m \u001b[0;34m\u001b[0m\u001b[0m\n\u001b[1;32m     12\u001b[0m \u001b[0mhours\u001b[0m\u001b[0;34m,\u001b[0m \u001b[0mminutes\u001b[0m\u001b[0;34m,\u001b[0m \u001b[0mseconds\u001b[0m \u001b[0;34m=\u001b[0m \u001b[0mparse_timediff\u001b[0m\u001b[0;34m(\u001b[0m\u001b[0mtime\u001b[0m\u001b[0;34m.\u001b[0m\u001b[0mtime\u001b[0m\u001b[0;34m(\u001b[0m\u001b[0;34m)\u001b[0m \u001b[0;34m-\u001b[0m \u001b[0mlocal_start\u001b[0m\u001b[0;34m)\u001b[0m\u001b[0;34m\u001b[0m\u001b[0m\n\u001b[0;32m---> 13\u001b[0;31m \u001b[0mlog\u001b[0m\u001b[0;34m(\u001b[0m\u001b[0;34mf\"Elapsed time: {hours} h. {minutes} min. {seconds} sec.\\n\"\u001b[0m\u001b[0;34m)\u001b[0m\u001b[0;34m\u001b[0m\u001b[0m\n\u001b[0m",
      "\u001b[0;32m<ipython-input-2-265a8c937276>\u001b[0m in \u001b[0;36mlog\u001b[0;34m(s)\u001b[0m\n\u001b[1;32m     31\u001b[0m \u001b[0;32mdef\u001b[0m \u001b[0mlog\u001b[0m\u001b[0;34m(\u001b[0m\u001b[0ms\u001b[0m\u001b[0;34m)\u001b[0m\u001b[0;34m:\u001b[0m\u001b[0;34m\u001b[0m\u001b[0m\n\u001b[1;32m     32\u001b[0m     \u001b[0mprint\u001b[0m\u001b[0;34m(\u001b[0m\u001b[0ms\u001b[0m\u001b[0;34m)\u001b[0m\u001b[0;34m\u001b[0m\u001b[0m\n\u001b[0;32m---> 33\u001b[0;31m     \u001b[0mlog_file\u001b[0m\u001b[0;34m.\u001b[0m\u001b[0mwrite\u001b[0m\u001b[0;34m(\u001b[0m\u001b[0ms\u001b[0m\u001b[0;34m)\u001b[0m\u001b[0;34m\u001b[0m\u001b[0m\n\u001b[0m\u001b[1;32m     34\u001b[0m     \u001b[0mlog_file\u001b[0m\u001b[0;34m.\u001b[0m\u001b[0mwrite\u001b[0m\u001b[0;34m(\u001b[0m\u001b[0;34m'\\n'\u001b[0m\u001b[0;34m)\u001b[0m\u001b[0;34m\u001b[0m\u001b[0m\n\u001b[1;32m     35\u001b[0m \u001b[0;34m\u001b[0m\u001b[0m\n",
      "\u001b[0;31mValueError\u001b[0m: I/O operation on closed file."
     ]
    }
   ],
   "source": [
    "print(f\"{clf_desc}\")\n",
    "\n",
    "clf = LocalOutlierFactor(n_neighbors=20, algorithm='auto', leaf_size=30, \\\n",
    "                         metric='minkowski', p=2, metric_params=None, contamination=0.001, n_jobs=-1)\n",
    "\n",
    "all_indices = np.arange(0, n_methods)\n",
    "\n",
    "local_start = time.time()\n",
    "\n",
    "marks = clf.fit_predict(X_pca)\n",
    "\n",
    "hours, minutes, seconds = parse_timediff(time.time() - local_start)\n",
    "print(f\"Elapsed time: {hours} h. {minutes} min. {seconds} sec.\\n\")"
   ]
  },
  {
   "cell_type": "code",
   "execution_count": 46,
   "metadata": {},
   "outputs": [
    {
     "data": {
      "text/plain": [
       "(4044790,)"
      ]
     },
     "execution_count": 46,
     "metadata": {},
     "output_type": "execute_result"
    }
   ],
   "source": [
    "neg_lof=np.array(clf.negative_outlier_factor_)\n",
    "neg_lof.shape"
   ]
  },
  {
   "cell_type": "code",
   "execution_count": 45,
   "metadata": {},
   "outputs": [],
   "source": [
    "np.savetxt(f\"../out-data/{dataset_name}_lof_custom/negative_o_f_{clf_desc}.txt\", neg_lof)"
   ]
  },
  {
   "cell_type": "code",
   "execution_count": 3,
   "metadata": {},
   "outputs": [],
   "source": [
    "neg_lof_path = f\"../out-data/feb18_51/lof/negative_o_f_lof_pca-20_n-20_cont-0.001.txt\"\n",
    "neg_lof = np.loadtxt(neg_lof_path)"
   ]
  },
  {
   "cell_type": "code",
   "execution_count": 9,
   "metadata": {},
   "outputs": [],
   "source": [
    "marks = neg_lof.copy()\n",
    "threshold = 0.01\n",
    "marks[neg_lof <= np.percentile(neg_lof, threshold)] = -1  # The lower, the more abnormal\n",
    "marks[neg_lof > np.percentile(neg_lof, threshold)] = 1"
   ]
  },
  {
   "cell_type": "code",
   "execution_count": 10,
   "metadata": {},
   "outputs": [
    {
     "name": "stdout",
     "output_type": "stream",
     "text": [
      "Outliers:\t       405/   4044790\t 0.01001288%\n"
     ]
    }
   ],
   "source": [
    "outlier_indices = np.asarray([mark < 0 for mark in marks])\n",
    "\n",
    "outliers = methods[outlier_indices]\n",
    "n_outliers = outliers.shape[0]\n",
    "n_methods = methods.shape[0]\n",
    "print(f\"Outliers:\\t{n_outliers:10}/{n_methods:10}\\t{(n_outliers * 100 / n_methods):11.7}%\")"
   ]
  },
  {
   "cell_type": "code",
   "execution_count": 15,
   "metadata": {},
   "outputs": [],
   "source": [
    "# Save output of this configuration to file\n",
    "# outliers = methods.values[outlier_indices]\n",
    "dataframe = pandas.DataFrame(outliers)\n",
    "dataframe.to_csv(f\"{out_path}{clf_desc}_{n_outliers}.csv\", header=False, index=False)"
   ]
  },
  {
   "cell_type": "code",
   "execution_count": 3,
   "metadata": {},
   "outputs": [
    {
     "data": {
      "text/html": [
       "<div>\n",
       "<style>\n",
       "    .dataframe thead tr:only-child th {\n",
       "        text-align: right;\n",
       "    }\n",
       "\n",
       "    .dataframe thead th {\n",
       "        text-align: left;\n",
       "    }\n",
       "\n",
       "    .dataframe tbody tr th {\n",
       "        vertical-align: top;\n",
       "    }\n",
       "</style>\n",
       "<table border=\"1\" class=\"dataframe\">\n",
       "  <thead>\n",
       "    <tr style=\"text-align: right;\">\n",
       "      <th></th>\n",
       "      <th>0</th>\n",
       "      <th>1</th>\n",
       "    </tr>\n",
       "  </thead>\n",
       "  <tbody>\n",
       "    <tr>\n",
       "      <th>400</th>\n",
       "      <td>76191</td>\n",
       "      <td>repos/czyczk__zzzz-supermarket/src/main/kotlin...</td>\n",
       "    </tr>\n",
       "    <tr>\n",
       "      <th>401</th>\n",
       "      <td>79255</td>\n",
       "      <td>repos/diefferson__indoor-android/app/src/main/...</td>\n",
       "    </tr>\n",
       "    <tr>\n",
       "      <th>402</th>\n",
       "      <td>87612</td>\n",
       "      <td>repos/pdahlberg__ark2mail/src/main/kotlin/com/...</td>\n",
       "    </tr>\n",
       "    <tr>\n",
       "      <th>403</th>\n",
       "      <td>87975</td>\n",
       "      <td>repos/tkakisu__hajiboot-kotlin/src/main/kotlin...</td>\n",
       "    </tr>\n",
       "    <tr>\n",
       "      <th>404</th>\n",
       "      <td>87977</td>\n",
       "      <td>repos/tkakisu__hajiboot-kotlin/src/main/kotlin...</td>\n",
       "    </tr>\n",
       "  </tbody>\n",
       "</table>\n",
       "</div>"
      ],
      "text/plain": [
       "         0                                                  1\n",
       "400  76191  repos/czyczk__zzzz-supermarket/src/main/kotlin...\n",
       "401  79255  repos/diefferson__indoor-android/app/src/main/...\n",
       "402  87612  repos/pdahlberg__ark2mail/src/main/kotlin/com/...\n",
       "403  87975  repos/tkakisu__hajiboot-kotlin/src/main/kotlin...\n",
       "404  87977  repos/tkakisu__hajiboot-kotlin/src/main/kotlin..."
      ]
     },
     "execution_count": 3,
     "metadata": {},
     "output_type": "execute_result"
    }
   ],
   "source": [
    "ee_info_outliers = pandas.read_csv(\"../out-data/feb18_51/ee/info_only/ee_cont-0.0001_405.csv\", header=None, index_col=None)\n",
    "ee_info_outliers.tail()"
   ]
  },
  {
   "cell_type": "code",
   "execution_count": 4,
   "metadata": {},
   "outputs": [
    {
     "data": {
      "text/html": [
       "<div>\n",
       "<style>\n",
       "    .dataframe thead tr:only-child th {\n",
       "        text-align: right;\n",
       "    }\n",
       "\n",
       "    .dataframe thead th {\n",
       "        text-align: left;\n",
       "    }\n",
       "\n",
       "    .dataframe tbody tr th {\n",
       "        vertical-align: top;\n",
       "    }\n",
       "</style>\n",
       "<table border=\"1\" class=\"dataframe\">\n",
       "  <thead>\n",
       "    <tr style=\"text-align: right;\">\n",
       "      <th></th>\n",
       "      <th>id</th>\n",
       "      <th>methodName</th>\n",
       "      <th>sloc</th>\n",
       "      <th>relativeLoc</th>\n",
       "      <th>nodeCount</th>\n",
       "      <th>cstHeight</th>\n",
       "      <th>maxLoopNestingDepth</th>\n",
       "      <th>cyclomaticComplexity</th>\n",
       "      <th>designComplexity</th>\n",
       "      <th>numTypecastExpr</th>\n",
       "      <th>...</th>\n",
       "      <th>numOperationReferences</th>\n",
       "      <th>numThrows</th>\n",
       "      <th>numSafeExpressions</th>\n",
       "      <th>numClassLiterals</th>\n",
       "      <th>numCollectionLiterals</th>\n",
       "      <th>numZeroConstants</th>\n",
       "      <th>numOneConstants</th>\n",
       "      <th>numEmptyStringLiterals</th>\n",
       "      <th>numPlusOperations</th>\n",
       "      <th>avgNumWhenEntries</th>\n",
       "    </tr>\n",
       "  </thead>\n",
       "  <tbody>\n",
       "    <tr>\n",
       "      <th>76190</th>\n",
       "      <td>76191</td>\n",
       "      <td>repos/eugenkiss__kotlinfx/kotlinfx-core/src/ma...</td>\n",
       "      <td>2.0</td>\n",
       "      <td>0.000547</td>\n",
       "      <td>116.0</td>\n",
       "      <td>12.0</td>\n",
       "      <td>0.0</td>\n",
       "      <td>1.0</td>\n",
       "      <td>1.0</td>\n",
       "      <td>1.0</td>\n",
       "      <td>...</td>\n",
       "      <td>2.0</td>\n",
       "      <td>0.0</td>\n",
       "      <td>0.0</td>\n",
       "      <td>0.0</td>\n",
       "      <td>0.0</td>\n",
       "      <td>0.0</td>\n",
       "      <td>0.0</td>\n",
       "      <td>0.0</td>\n",
       "      <td>0.0</td>\n",
       "      <td>0.0</td>\n",
       "    </tr>\n",
       "    <tr>\n",
       "      <th>79254</th>\n",
       "      <td>79255</td>\n",
       "      <td>repos/TPT-Logisim__LogisimKR-Kotlin/src/com/cb...</td>\n",
       "      <td>7.0</td>\n",
       "      <td>0.145833</td>\n",
       "      <td>81.0</td>\n",
       "      <td>11.0</td>\n",
       "      <td>0.0</td>\n",
       "      <td>2.0</td>\n",
       "      <td>2.0</td>\n",
       "      <td>1.0</td>\n",
       "      <td>...</td>\n",
       "      <td>1.0</td>\n",
       "      <td>0.0</td>\n",
       "      <td>0.0</td>\n",
       "      <td>0.0</td>\n",
       "      <td>0.0</td>\n",
       "      <td>0.0</td>\n",
       "      <td>0.0</td>\n",
       "      <td>0.0</td>\n",
       "      <td>0.0</td>\n",
       "      <td>0.0</td>\n",
       "    </tr>\n",
       "    <tr>\n",
       "      <th>87611</th>\n",
       "      <td>87612</td>\n",
       "      <td>repos/chengXyuan__Projects/app/src/main/java/c...</td>\n",
       "      <td>9.0</td>\n",
       "      <td>0.112500</td>\n",
       "      <td>155.0</td>\n",
       "      <td>15.0</td>\n",
       "      <td>0.0</td>\n",
       "      <td>1.0</td>\n",
       "      <td>1.0</td>\n",
       "      <td>0.0</td>\n",
       "      <td>...</td>\n",
       "      <td>3.0</td>\n",
       "      <td>0.0</td>\n",
       "      <td>0.0</td>\n",
       "      <td>0.0</td>\n",
       "      <td>0.0</td>\n",
       "      <td>0.0</td>\n",
       "      <td>0.0</td>\n",
       "      <td>0.0</td>\n",
       "      <td>0.0</td>\n",
       "      <td>0.0</td>\n",
       "    </tr>\n",
       "    <tr>\n",
       "      <th>87974</th>\n",
       "      <td>87975</td>\n",
       "      <td>repos/chengXyuan__Projects/app/src/main/java/c...</td>\n",
       "      <td>14.0</td>\n",
       "      <td>0.318182</td>\n",
       "      <td>237.0</td>\n",
       "      <td>16.0</td>\n",
       "      <td>0.0</td>\n",
       "      <td>2.0</td>\n",
       "      <td>1.0</td>\n",
       "      <td>0.0</td>\n",
       "      <td>...</td>\n",
       "      <td>2.0</td>\n",
       "      <td>0.0</td>\n",
       "      <td>0.0</td>\n",
       "      <td>0.0</td>\n",
       "      <td>0.0</td>\n",
       "      <td>0.0</td>\n",
       "      <td>0.0</td>\n",
       "      <td>0.0</td>\n",
       "      <td>0.0</td>\n",
       "      <td>0.0</td>\n",
       "    </tr>\n",
       "    <tr>\n",
       "      <th>87976</th>\n",
       "      <td>87977</td>\n",
       "      <td>repos/chengXyuan__Projects/app/src/main/java/c...</td>\n",
       "      <td>1.0</td>\n",
       "      <td>0.022727</td>\n",
       "      <td>38.0</td>\n",
       "      <td>9.0</td>\n",
       "      <td>0.0</td>\n",
       "      <td>1.0</td>\n",
       "      <td>1.0</td>\n",
       "      <td>0.0</td>\n",
       "      <td>...</td>\n",
       "      <td>1.0</td>\n",
       "      <td>0.0</td>\n",
       "      <td>0.0</td>\n",
       "      <td>1.0</td>\n",
       "      <td>0.0</td>\n",
       "      <td>0.0</td>\n",
       "      <td>0.0</td>\n",
       "      <td>0.0</td>\n",
       "      <td>0.0</td>\n",
       "      <td>0.0</td>\n",
       "    </tr>\n",
       "  </tbody>\n",
       "</table>\n",
       "<p>5 rows × 53 columns</p>\n",
       "</div>"
      ],
      "text/plain": [
       "          id                                         methodName  sloc  \\\n",
       "76190  76191  repos/eugenkiss__kotlinfx/kotlinfx-core/src/ma...   2.0   \n",
       "79254  79255  repos/TPT-Logisim__LogisimKR-Kotlin/src/com/cb...   7.0   \n",
       "87611  87612  repos/chengXyuan__Projects/app/src/main/java/c...   9.0   \n",
       "87974  87975  repos/chengXyuan__Projects/app/src/main/java/c...  14.0   \n",
       "87976  87977  repos/chengXyuan__Projects/app/src/main/java/c...   1.0   \n",
       "\n",
       "       relativeLoc  nodeCount  cstHeight  maxLoopNestingDepth  \\\n",
       "76190     0.000547      116.0       12.0                  0.0   \n",
       "79254     0.145833       81.0       11.0                  0.0   \n",
       "87611     0.112500      155.0       15.0                  0.0   \n",
       "87974     0.318182      237.0       16.0                  0.0   \n",
       "87976     0.022727       38.0        9.0                  0.0   \n",
       "\n",
       "       cyclomaticComplexity  designComplexity  numTypecastExpr  \\\n",
       "76190                   1.0               1.0              1.0   \n",
       "79254                   2.0               2.0              1.0   \n",
       "87611                   1.0               1.0              0.0   \n",
       "87974                   2.0               1.0              0.0   \n",
       "87976                   1.0               1.0              0.0   \n",
       "\n",
       "             ...          numOperationReferences  numThrows  \\\n",
       "76190        ...                             2.0        0.0   \n",
       "79254        ...                             1.0        0.0   \n",
       "87611        ...                             3.0        0.0   \n",
       "87974        ...                             2.0        0.0   \n",
       "87976        ...                             1.0        0.0   \n",
       "\n",
       "       numSafeExpressions  numClassLiterals  numCollectionLiterals  \\\n",
       "76190                 0.0               0.0                    0.0   \n",
       "79254                 0.0               0.0                    0.0   \n",
       "87611                 0.0               0.0                    0.0   \n",
       "87974                 0.0               0.0                    0.0   \n",
       "87976                 0.0               1.0                    0.0   \n",
       "\n",
       "       numZeroConstants  numOneConstants  numEmptyStringLiterals  \\\n",
       "76190               0.0              0.0                     0.0   \n",
       "79254               0.0              0.0                     0.0   \n",
       "87611               0.0              0.0                     0.0   \n",
       "87974               0.0              0.0                     0.0   \n",
       "87976               0.0              0.0                     0.0   \n",
       "\n",
       "       numPlusOperations  avgNumWhenEntries  \n",
       "76190                0.0                0.0  \n",
       "79254                0.0                0.0  \n",
       "87611                0.0                0.0  \n",
       "87974                0.0                0.0  \n",
       "87976                0.0                0.0  \n",
       "\n",
       "[5 rows x 53 columns]"
      ]
     },
     "execution_count": 4,
     "metadata": {},
     "output_type": "execute_result"
    }
   ],
   "source": [
    "ee_outlier_indices = ee_info_outliers.iloc[:, 0]\n",
    "ee_outlier_indices = ee_outlier_indices.apply(lambda x: x - 1)\n",
    "ee_outliers = methods.loc[ee_outlier_indices]\n",
    "ee_outliers.tail()"
   ]
  },
  {
   "cell_type": "code",
   "execution_count": 5,
   "metadata": {},
   "outputs": [],
   "source": [
    "ee_outliers.to_csv(\"../out-data/feb18_51/ee/ee_cont-0.0001_405.csv\", header=False, index=False)"
   ]
  },
  {
   "cell_type": "code",
   "execution_count": 6,
   "metadata": {},
   "outputs": [
    {
     "data": {
      "text/plain": [
       "0     5392\n",
       "1     5395\n",
       "2    11280\n",
       "3    11281\n",
       "4    11282\n",
       "Name: 0, dtype: int64"
      ]
     },
     "execution_count": 6,
     "metadata": {},
     "output_type": "execute_result"
    }
   ],
   "source": [
    "ee_outlier_indices.head()"
   ]
  },
  {
   "cell_type": "code",
   "execution_count": 7,
   "metadata": {},
   "outputs": [
    {
     "data": {
      "text/plain": [
       "0     5392\n",
       "1     5395\n",
       "2    11280\n",
       "3    11281\n",
       "4    11282\n",
       "Name: 0, dtype: int64"
      ]
     },
     "execution_count": 7,
     "metadata": {},
     "output_type": "execute_result"
    }
   ],
   "source": [
    "ee_info_outliers_2 = pandas.read_csv(\"../out-data/feb18_51/ee/info_only/ee_cont-5e-05_405.csv\", header=None, index_col=None)\n",
    "ee_outlier_indices_2 = ee_info_outliers_2.iloc[:, 0]\n",
    "ee_outlier_indices_2 = ee_outlier_indices_2.apply(lambda x: x - 1)\n",
    "ee_outlier_indices_2.head()"
   ]
  },
  {
   "cell_type": "code",
   "execution_count": null,
   "metadata": {},
   "outputs": [],
   "source": []
  }
 ],
 "metadata": {
  "kernelspec": {
   "display_name": "Python 3",
   "language": "python",
   "name": "python3"
  },
  "language_info": {
   "codemirror_mode": {
    "name": "ipython",
    "version": 3
   },
   "file_extension": ".py",
   "mimetype": "text/x-python",
   "name": "python",
   "nbconvert_exporter": "python",
   "pygments_lexer": "ipython3",
   "version": "3.6.4"
  }
 },
 "nbformat": 4,
 "nbformat_minor": 2
}
