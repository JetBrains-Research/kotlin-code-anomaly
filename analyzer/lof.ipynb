{
 "cells": [
  {
   "cell_type": "code",
   "execution_count": 2,
   "metadata": {},
   "outputs": [],
   "source": [
    "import csv\n",
    "import matplotlib.pyplot as plt\n",
    "import numpy as np\n",
    "import os\n",
    "import pandas\n",
    "import re\n",
    "import sys\n",
    "import time\n",
    "from functools import reduce\n",
    "\n",
    "# noinspection PyUnresolvedReferences\n",
    "from mpl_toolkits.mplot3d import Axes3D\n",
    "from sklearn.decomposition import PCA\n",
    "from sklearn.model_selection import ParameterGrid\n",
    "from sklearn.neighbors import LocalOutlierFactor\n",
    "from sklearn.preprocessing import scale\n",
    "from sklearn.svm import OneClassSVM\n",
    "\n",
    "dataset_name = \"feb18_51\"\n",
    "is_drawing = False\n",
    "\n",
    "csv_in_path = f\"../data/{dataset_name}.csv\"\n",
    "out_path = f\"../out-data/{dataset_name}_lof_custom/\"\n",
    "log_path = f\"{out_path}methods.log\"\n",
    "\n",
    "if not os.path.exists(out_path):\n",
    "    os.makedirs(out_path)\n",
    "log_file = open(log_path, mode='w+')\n",
    "\n",
    "\n",
    "def log(s):\n",
    "    print(s)\n",
    "    log_file.write(s)\n",
    "    log_file.write('\\n')\n",
    "\n",
    "\n",
    "def parse_timediff(timediff):\n",
    "    h = timediff // 3600\n",
    "    m = timediff % 3600 // 60\n",
    "    s = timediff % 60\n",
    "    return h, m, s"
   ]
  },
  {
   "cell_type": "code",
   "execution_count": 3,
   "metadata": {},
   "outputs": [],
   "source": [
    "# Load input\n",
    "methods = pandas.read_csv(csv_in_path, header=0, delimiter='\\t', quoting=csv.QUOTE_NONE, error_bad_lines=True,\n",
    "                          engine='python')"
   ]
  },
  {
   "cell_type": "code",
   "execution_count": 6,
   "metadata": {},
   "outputs": [
    {
     "name": "stdout",
     "output_type": "stream",
     "text": [
      "info_columns.shape = (4044790, 2)\n",
      "X.shape = (4044790, 51)\n"
     ]
    }
   ],
   "source": [
    "info_columns = np.array(methods.values[:, :2])\n",
    "print(f\"info_columns.shape = {info_columns.shape}\")\n",
    "X = np.array(methods.values[:, 2:], dtype=\"float16\")\n",
    "print(f\"X.shape = {X.shape}\")\n",
    "n_methods = X.shape[0]\n",
    "\n",
    "has_bad_lines = reduce(lambda a, x: a | x, [np.isnan(row).any() for row in X])\n",
    "assert not has_bad_lines\n",
    "\n",
    "del methods"
   ]
  },
  {
   "cell_type": "code",
   "execution_count": 7,
   "metadata": {},
   "outputs": [],
   "source": [
    "X = scale(X)"
   ]
  },
  {
   "cell_type": "code",
   "execution_count": 9,
   "metadata": {},
   "outputs": [],
   "source": [
    "df_info = pandas.DataFrame(info_columns)\n",
    "df_info.to_csv(f\"../data/info_51.csv\", header=False, index=False)\n",
    "df_X = pandas.DataFrame(X)\n",
    "df_X.to_csv(f\"../data/X_51_scaled.csv\", header=False, index=False)\n",
    "del df_info\n",
    "del df_X"
   ]
  },
  {
   "cell_type": "code",
   "execution_count": 32,
   "metadata": {},
   "outputs": [],
   "source": [
    "df_X = pandas.read_csv(f\"../data/X_51_scaled.csv\", header=None, index_col=None)\n",
    "X = np.array(df_X, dtype=\"float32\")\n",
    "del df_X"
   ]
  },
  {
   "cell_type": "code",
   "execution_count": 33,
   "metadata": {},
   "outputs": [],
   "source": [
    "X_pca = PCA(n_components=20).fit_transform(X)\n",
    "del X"
   ]
  },
  {
   "cell_type": "code",
   "execution_count": 35,
   "metadata": {},
   "outputs": [
    {
     "name": "stdout",
     "output_type": "stream",
     "text": [
      "lof_pca-20_n-20_cont-0.001\n",
      "Elapsed time: 2.0 h. 37.0 min. 42.836100816726685 sec.\n",
      "\n"
     ]
    },
    {
     "ename": "ValueError",
     "evalue": "I/O operation on closed file.",
     "output_type": "error",
     "traceback": [
      "\u001b[0;31m---------------------------------------------------------------------------\u001b[0m",
      "\u001b[0;31mValueError\u001b[0m                                Traceback (most recent call last)",
      "\u001b[0;32m<ipython-input-35-79889c4b0f0c>\u001b[0m in \u001b[0;36m<module>\u001b[0;34m()\u001b[0m\n\u001b[1;32m     11\u001b[0m \u001b[0;34m\u001b[0m\u001b[0m\n\u001b[1;32m     12\u001b[0m \u001b[0mhours\u001b[0m\u001b[0;34m,\u001b[0m \u001b[0mminutes\u001b[0m\u001b[0;34m,\u001b[0m \u001b[0mseconds\u001b[0m \u001b[0;34m=\u001b[0m \u001b[0mparse_timediff\u001b[0m\u001b[0;34m(\u001b[0m\u001b[0mtime\u001b[0m\u001b[0;34m.\u001b[0m\u001b[0mtime\u001b[0m\u001b[0;34m(\u001b[0m\u001b[0;34m)\u001b[0m \u001b[0;34m-\u001b[0m \u001b[0mlocal_start\u001b[0m\u001b[0;34m)\u001b[0m\u001b[0;34m\u001b[0m\u001b[0m\n\u001b[0;32m---> 13\u001b[0;31m \u001b[0mlog\u001b[0m\u001b[0;34m(\u001b[0m\u001b[0;34mf\"Elapsed time: {hours} h. {minutes} min. {seconds} sec.\\n\"\u001b[0m\u001b[0;34m)\u001b[0m\u001b[0;34m\u001b[0m\u001b[0m\n\u001b[0m",
      "\u001b[0;32m<ipython-input-2-265a8c937276>\u001b[0m in \u001b[0;36mlog\u001b[0;34m(s)\u001b[0m\n\u001b[1;32m     31\u001b[0m \u001b[0;32mdef\u001b[0m \u001b[0mlog\u001b[0m\u001b[0;34m(\u001b[0m\u001b[0ms\u001b[0m\u001b[0;34m)\u001b[0m\u001b[0;34m:\u001b[0m\u001b[0;34m\u001b[0m\u001b[0m\n\u001b[1;32m     32\u001b[0m     \u001b[0mprint\u001b[0m\u001b[0;34m(\u001b[0m\u001b[0ms\u001b[0m\u001b[0;34m)\u001b[0m\u001b[0;34m\u001b[0m\u001b[0m\n\u001b[0;32m---> 33\u001b[0;31m     \u001b[0mlog_file\u001b[0m\u001b[0;34m.\u001b[0m\u001b[0mwrite\u001b[0m\u001b[0;34m(\u001b[0m\u001b[0ms\u001b[0m\u001b[0;34m)\u001b[0m\u001b[0;34m\u001b[0m\u001b[0m\n\u001b[0m\u001b[1;32m     34\u001b[0m     \u001b[0mlog_file\u001b[0m\u001b[0;34m.\u001b[0m\u001b[0mwrite\u001b[0m\u001b[0;34m(\u001b[0m\u001b[0;34m'\\n'\u001b[0m\u001b[0;34m)\u001b[0m\u001b[0;34m\u001b[0m\u001b[0m\n\u001b[1;32m     35\u001b[0m \u001b[0;34m\u001b[0m\u001b[0m\n",
      "\u001b[0;31mValueError\u001b[0m: I/O operation on closed file."
     ]
    }
   ],
   "source": [
    "clf_desc = f\"{clf_name}_pca-20_n-20_cont-0.001\"\n",
    "print(f\"{clf_desc}\")\n",
    "\n",
    "clf = LocalOutlierFactor(n_neighbors=20, algorithm='auto', leaf_size=30, \\\n",
    "                         metric='minkowski', p=2, metric_params=None, contamination=0.001, n_jobs=-1)\n",
    "\n",
    "all_indices = np.arange(0, n_methods)\n",
    "\n",
    "local_start = time.time()\n",
    "\n",
    "marks = clf.fit_predict(X_pca)\n",
    "\n",
    "hours, minutes, seconds = parse_timediff(time.time() - local_start)\n",
    "print(f\"Elapsed time: {hours} h. {minutes} min. {seconds} sec.\\n\")"
   ]
  },
  {
   "cell_type": "code",
   "execution_count": 46,
   "metadata": {},
   "outputs": [
    {
     "data": {
      "text/plain": [
       "(4044790,)"
      ]
     },
     "execution_count": 46,
     "metadata": {},
     "output_type": "execute_result"
    }
   ],
   "source": [
    "neg_lof=np.array(clf.negative_outlier_factor_)\n",
    "neg_lof.shape"
   ]
  },
  {
   "cell_type": "code",
   "execution_count": 45,
   "metadata": {},
   "outputs": [],
   "source": [
    "np.savetxt(f\"../out-data/{dataset_name}_lof_custom/negative_o_f_{clf_desc}.txt\", neg_lof)"
   ]
  },
  {
   "cell_type": "code",
   "execution_count": 52,
   "metadata": {},
   "outputs": [],
   "source": [
    "marks = neg_lof.copy()\n",
    "threshold = 0.02\n",
    "marks[lof <= np.percentile(lof_y_pred, threshold)] = -1\n",
    "marks[lof > np.percentile(lof_y_pred, threshold)] = 1"
   ]
  },
  {
   "cell_type": "code",
   "execution_count": 53,
   "metadata": {},
   "outputs": [
    {
     "name": "stdout",
     "output_type": "stream",
     "text": [
      "Inliers:\t   4043796/   4044790\t   99.97543%\n",
      "Outliers:\t       994/   4044790\t 0.02457482%\n"
     ]
    }
   ],
   "source": [
    "# noinspection PyUnboundLocalVariable\n",
    "inlier_indices = np.asarray([mark > 0 for mark in marks])\n",
    "outlier_indices = np.asarray([mark < 0 for mark in marks])\n",
    "\n",
    "info_inliers = info_columns[inlier_indices]\n",
    "info_outliers = info_columns[outlier_indices]\n",
    "n_inliers = info_inliers.shape[0]\n",
    "n_outliers = info_outliers.shape[0]\n",
    "print(f\"Inliers:\\t{n_inliers:10}/{n_methods:10}\\t{(n_inliers * 100 / n_methods):11.7}%\")\n",
    "print(f\"Outliers:\\t{n_outliers:10}/{n_methods:10}\\t{(n_outliers * 100 / n_methods):11.7}%\")\n",
    "\n",
    "if n_outliers > n_inliers:\n",
    "    X_temp = X_inliers\n",
    "    X_inliers = X_outliers\n",
    "    X_outliers = X_temp\n",
    "    print(\"\\tSwapped 'inliers' and 'outliers', because there were more outliers than inliers!\")"
   ]
  },
  {
   "cell_type": "code",
   "execution_count": 54,
   "metadata": {},
   "outputs": [],
   "source": [
    "# Save output of this configuration to file\n",
    "# outliers = methods.values[outlier_indices]\n",
    "dataframe = pandas.DataFrame(info_outliers)\n",
    "dataframe.to_csv(f\"{out_path}{clf_desc}_{n_outliers}.csv\", header=False, index=False)\n",
    "\n",
    "log_file.close()"
   ]
  },
  {
   "cell_type": "code",
   "execution_count": null,
   "metadata": {},
   "outputs": [],
   "source": []
  }
 ],
 "metadata": {
  "kernelspec": {
   "display_name": "Python 3",
   "language": "python",
   "name": "python3"
  },
  "language_info": {
   "codemirror_mode": {
    "name": "ipython",
    "version": 3
   },
   "file_extension": ".py",
   "mimetype": "text/x-python",
   "name": "python",
   "nbconvert_exporter": "python",
   "pygments_lexer": "ipython3",
   "version": "3.6.4"
  }
 },
 "nbformat": 4,
 "nbformat_minor": 2
}
